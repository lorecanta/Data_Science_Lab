{
 "cells": [
  {
   "cell_type": "code",
   "execution_count": 1,
   "metadata": {},
   "outputs": [],
   "source": [
    "import pandas as pd\n",
    "import numpy as np\n",
    "from sklearn.preprocessing import OneHotEncoder\n",
    "from fcapy.lattice import ConceptLattice\n",
    "from fcapy.context import FormalContext\n",
    "import os \n",
    "\n",
    "from shared import utils_data_preparation\n",
    "from shared import utils_analysis\n",
    "\n",
    "    \n",
    "output_dir = 'output'\n",
    "os.makedirs(output_dir, exist_ok=True)\n",
    " "
   ]
  },
  {
   "cell_type": "code",
   "execution_count": 2,
   "metadata": {},
   "outputs": [
    {
     "name": "stdout",
     "output_type": "stream",
     "text": [
      "PASS\n",
      "No missing values.\n",
      "No missing values.\n"
     ]
    }
   ],
   "source": [
    "# Caricamento dati\n",
    "df_2017 = pd.read_csv(\"data/Financia_literacy_2017.csv\")\n",
    "df_2020 = pd.read_csv(\"data/Financia_literacy_2020.csv\")\n",
    "\n",
    "# Controllo struttura\n",
    "db_check = utils_data_preparation.check_dataframe_structure(df_2017, df_2020)\n",
    "\n",
    "# Se la struttura è compatibile, trasformiamo entrambi i DataFrame\n",
    "if db_check:\n",
    "    df_2017_transformed = utils_data_preparation.transform_dataframe(df_2017)\n",
    "    df_2020_transformed = utils_data_preparation.transform_dataframe(df_2020)\n"
   ]
  },
  {
   "cell_type": "code",
   "execution_count": 3,
   "metadata": {},
   "outputs": [],
   "source": [
    "\n",
    "# Creazione della nuova colonna con la generazione\n",
    "df_2017_transformed[\"education\"] = df_2017_transformed[\"qd9\"].apply(utils_data_preparation.categorize_education)\n",
    "df_2020_transformed[\"education\"] = df_2020_transformed[\"qd9\"].apply(utils_data_preparation.categorize_education)\n",
    "\n",
    "# Creazione della nuova colonna con la generazione\n",
    "df_2017_transformed[\"generation\"] = df_2017_transformed[\"qd7\"].apply(utils_data_preparation.categorize_generation)\n",
    "df_2020_transformed[\"generation\"] = df_2020_transformed[\"qd7\"].apply(utils_data_preparation.categorize_generation)\n",
    "\n",
    "# Seleziona le due variabili da usare per la segmentazione\n",
    "var1 = \"education\"  # Sostituisci con il nome della prima variabile\n",
    "var2 = \"generation\" \n",
    "\n",
    "# Creazione di una nuova variabile che è la concatenazione dei valori di var1 e var2\n",
    "df_2017_transformed[\"segmentation\"] = df_2017_transformed[var1].astype(str) + \"_\" + df_2017_transformed[var2].astype(str) \n",
    "df_2020_transformed[\"segmentation\"] = df_2020_transformed[var1].astype(str) + \"_\" + df_2020_transformed[var2].astype(str) "
   ]
  },
  {
   "cell_type": "code",
   "execution_count": 4,
   "metadata": {},
   "outputs": [],
   "source": [
    "df_2017_transformed = utils_data_preparation.calculate_scores(df_2017_transformed)\n",
    "df_2020_transformed = utils_data_preparation.calculate_scores(df_2020_transformed)"
   ]
  },
  {
   "cell_type": "code",
   "execution_count": null,
   "metadata": {},
   "outputs": [],
   "source": [
    "#train_data_2017, test_data_2017 = utils_data_preparation.create_train_test_set(df_2017_transformed)"
   ]
  },
  {
   "cell_type": "code",
   "execution_count": 43,
   "metadata": {},
   "outputs": [],
   "source": [
    "segmentation_counts = df_2017_transformed[\"segmentation\"].value_counts()\n",
    "segmentation_values = segmentation_counts[segmentation_counts >= 200].index.tolist()"
   ]
  },
  {
   "cell_type": "code",
   "execution_count": 77,
   "metadata": {},
   "outputs": [],
   "source": [
    "import pandas as pd\n",
    "\n",
    "# Lista per raccogliere i risultati\n",
    "all_results = []\n",
    "\n",
    "# Itera su tutti i valori di segmentation\n",
    "for segment in segmentation_values:\n",
    "    # Filtra i dati per il segmento corrente\n",
    "    df_iter = df_2017_transformed[df_2017_transformed[\"segmentation\"] == segment]\n",
    "\n",
    "    # Definizione delle colonne A e B\n",
    "    columns_A = utils_data_preparation.knowledge_score_variables\n",
    "    columns_B = utils_data_preparation.behavioral_score_variables\n",
    "\n",
    "    # Crea l'oggetto AssociationRules per il segmento corrente\n",
    "    ar = utils_analysis.AssociationRules(df_iter, columns_A=columns_A, columns_B=columns_B, group=segment)\n",
    "\n",
    "    # Calcola le metriche di associazione\n",
    "    results = ar.calculate_all_metrics_for_selected_sets()\n",
    "\n",
    "    # Filtra le regole in base ai criteri specificati\n",
    "    filtered_results_db = ar.filter_by_values(results, min_support=0.12, min_confidence=0.6, min_lift=1.35)\n",
    "\n",
    "    # Aggiunge i risultati alla lista\n",
    "    all_results.append(filtered_results_db)\n",
    "\n",
    "# Concatena tutti i risultati in un unico DataFrame\n",
    "final_results_db = pd.concat(all_results, ignore_index=True)"
   ]
  },
  {
   "cell_type": "code",
   "execution_count": null,
   "metadata": {},
   "outputs": [
    {
     "data": {
      "text/plain": [
       "Group\n",
       "Diploma_Millennials    6\n",
       "Diploma_Gen_X          3\n",
       "No_diploma_Gen_X       1\n",
       "Name: count, dtype: int64"
      ]
     },
     "execution_count": 78,
     "metadata": {},
     "output_type": "execute_result"
    }
   ],
   "source": [
    "final_results_db[\"Group\"].value_counts()"
   ]
  },
  {
   "cell_type": "code",
   "execution_count": null,
   "metadata": {},
   "outputs": [],
   "source": [
    "lista_A = final_results_db[\"A\"].tolist()\n",
    "lista_B = final_results_db[\"B\"].tolist()\n",
    "\n",
    "# Liste per memorizzare i risultati\n",
    "support_test_values = []\n",
    "confidence_test_values = []\n",
    "lift_test_values = []\n",
    "\n",
    "ar = utils_analysis.AssociationRules(df_2020_transformed, columns_A=columns_A, columns_B=columns_B, group=\"test_2020\")\n",
    "\n",
    "# Itera sugli elementi delle liste a e b\n",
    "for item_a, item_b in zip(lista_A, lista_B):\n",
    "    # Calcola le metriche usando l'oggetto AssociationRules\n",
    "    support_test = ar.support(list(item_a + item_b))  # Unisce a e b in una lista\n",
    "    confidence_test = ar.confidence(list(item_a), list(item_b))\n",
    "    lift_test = ar.lift(list(item_a), list(item_b))\n",
    "\n",
    "    # Memorizza i valori nelle liste\n",
    "    support_test_values.append(support_test)\n",
    "    confidence_test_values.append(confidence_test)\n",
    "    lift_test_values.append(lift_test)\n",
    "\n",
    "# Aggiunge le nuove colonne al DataFrame finale\n",
    "final_results_db[\"supporto_test\"] = support_test_values\n",
    "final_results_db[\"confidenza_test\"] = confidence_test_values\n",
    "final_results_db[\"lift_test\"] = lift_test_values"
   ]
  },
  {
   "cell_type": "code",
   "execution_count": 82,
   "metadata": {},
   "outputs": [
    {
     "data": {
      "text/plain": [
       "Group\n",
       "Diploma_Millennials    6\n",
       "Diploma_Gen_X          3\n",
       "No_diploma_Gen_X       1\n",
       "Name: count, dtype: int64"
      ]
     },
     "execution_count": 82,
     "metadata": {},
     "output_type": "execute_result"
    }
   ],
   "source": [
    "result=final_results_db[(final_results_db[\"supporto_test\"]>0) & (final_results_db[\"confidenza_test\"]>0) & (final_results_db[\"lift_test\"]>1)]\n",
    "result['Group'].value_counts()"
   ]
  },
  {
   "cell_type": "code",
   "execution_count": 83,
   "metadata": {},
   "outputs": [],
   "source": [
    "# Raggruppa per \"Group\" e calcola le medie\n",
    "df_summary = final_results_db.groupby(\"Group\").agg({\n",
    "    \"Support\": \"mean\",\n",
    "    \"Confidence\": \"mean\",\n",
    "    \"Lift\": \"mean\",\n",
    "    \"supporto_test\": \"mean\",\n",
    "    \"confidenza_test\": \"mean\",\n",
    "    \"lift_test\": \"mean\"\n",
    "}).reset_index()\n",
    "\n",
    "# Rinomina le colonne per chiarezza\n",
    "df_summary.rename(columns={\n",
    "    \"Support\": \"Support Medio\",\n",
    "    \"Confidence\": \"Confidence Media\",\n",
    "    \"Lift\": \"Lift Medio\",\n",
    "    \"supporto_test\": \"Support Test Medio\",\n",
    "    \"confidenza_test\": \"Confidence Test Media\",\n",
    "    \"lift_test\": \"Lift Test Medio\"\n",
    "}, inplace=True)"
   ]
  },
  {
   "cell_type": "code",
   "execution_count": 92,
   "metadata": {},
   "outputs": [],
   "source": [
    "final_results_db.to_csv(\"estrazione.csv\")"
   ]
  }
 ],
 "metadata": {
  "kernelspec": {
   "display_name": ".venv",
   "language": "python",
   "name": "python3"
  },
  "language_info": {
   "codemirror_mode": {
    "name": "ipython",
    "version": 3
   },
   "file_extension": ".py",
   "mimetype": "text/x-python",
   "name": "python",
   "nbconvert_exporter": "python",
   "pygments_lexer": "ipython3",
   "version": "3.12.2"
  }
 },
 "nbformat": 4,
 "nbformat_minor": 2
}
