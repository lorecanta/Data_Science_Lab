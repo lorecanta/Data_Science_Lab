{
 "cells": [
  {
   "cell_type": "code",
   "execution_count": 1,
   "id": "0098dd34",
   "metadata": {},
   "outputs": [],
   "source": [
    "import pandas as pd\n",
    "import yaml\n",
    "import logging\n",
    "\n",
    "from helpers.utils_data_exploration import convert_column_types, generate_variable_summary"
   ]
  },
  {
   "cell_type": "code",
   "execution_count": null,
   "id": "cc3275d5",
   "metadata": {},
   "outputs": [],
   "source": [
    "df = pd.read_csv(\"data/Financia_literacy_2018.csv\")\n",
    "logging.info(\"Data loaded successfully.\")"
   ]
  },
  {
   "cell_type": "code",
   "execution_count": 3,
   "id": "4324885e",
   "metadata": {},
   "outputs": [],
   "source": [
    "with open(\"column_types.yaml\", \"r\") as f:\n",
    "    type_map = yaml.safe_load(f)\n",
    "\n",
    "df = convert_column_types(df, type_map)\n",
    "\n",
    "variable_summary = generate_variable_summary(df, type_map)"
   ]
  },
  {
   "cell_type": "code",
   "execution_count": 4,
   "id": "8505818d",
   "metadata": {},
   "outputs": [
    {
     "data": {
      "text/plain": [
       "'output\\\\variable_summary_.xlsx'"
      ]
     },
     "execution_count": 4,
     "metadata": {},
     "output_type": "execute_result"
    }
   ],
   "source": [
    "kpi_df = variable_summary['kpi'].apply(pd.Series)\n",
    "summary_export = pd.concat([variable_summary.drop(columns='kpi'), kpi_df], axis=1)\n",
    "\n",
    "output_path = \"output\\\\variable_summary.xlsx\"\n",
    "summary_export.to_excel(output_path, index=False)\n",
    "\n",
    "output_path "
   ]
  }
 ],
 "metadata": {
  "kernelspec": {
   "display_name": ".venv",
   "language": "python",
   "name": "python3"
  },
  "language_info": {
   "codemirror_mode": {
    "name": "ipython",
    "version": 3
   },
   "file_extension": ".py",
   "mimetype": "text/x-python",
   "name": "python",
   "nbconvert_exporter": "python",
   "pygments_lexer": "ipython3",
   "version": "3.12.2"
  }
 },
 "nbformat": 4,
 "nbformat_minor": 5
}
