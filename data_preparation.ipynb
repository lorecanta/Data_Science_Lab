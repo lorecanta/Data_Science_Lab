{
 "cells": [
  {
   "cell_type": "markdown",
   "metadata": {},
   "source": [
    "Imports necessary libraries for data analysis, preprocessing, modeling, and visualization.\n",
    "\n",
    "Creates an output directory named 'output' if it doesn't exist. This will be used to store output files or visualizations generated later in the code."
   ]
  },
  {
   "cell_type": "code",
   "execution_count": 1,
   "metadata": {},
   "outputs": [
    {
     "name": "stderr",
     "output_type": "stream",
     "text": [
      "\n",
      "[notice] A new release of pip is available: 24.0 -> 24.3.1\n",
      "[notice] To update, run: python.exe -m pip install --upgrade pip\n"
     ]
    }
   ],
   "source": [
    "!pip install -U -q fcapy[all]==0.1.4"
   ]
  },
  {
   "cell_type": "code",
   "execution_count": 1,
   "metadata": {},
   "outputs": [],
   "source": [
    "import pandas as pd\n",
    "import numpy as np\n",
    "from sklearn.preprocessing import OneHotEncoder\n",
    "from fcapy.lattice import ConceptLattice\n",
    "from fcapy.context import FormalContext\n",
    "import os \n",
    "\n",
    "    \n",
    "output_dir = 'output'\n",
    "os.makedirs(output_dir, exist_ok=True)\n",
    " "
   ]
  },
  {
   "cell_type": "markdown",
   "metadata": {},
   "source": [
    "<span style=\"font-size: 0.75em;\">\n",
    "\n",
    "# Financial Literacy Data Processing\n",
    "\n",
    "This script processes and cleans datasets from two different years (2017 and 2020) related to financial literacy. The final output is a prepared DataFrame ready for further analysis or modeling. Below is a step-by-step explanation of the process:\n",
    "\n",
    "## 1. Load Datasets and Compare Columns\n",
    "The script begins by loading two datasets, one from 2017 and the other from 2020. It then compares the columns of these datasets:\n",
    "- If the columns match, a message `\"PASS_20_17\"` is printed.\n",
    "- If the columns do not match, the differences are identified and displayed.\n",
    "\n",
    "## 2. Merge DataFrames and Initial Cleaning\n",
    "Next, the two datasets are merged into a single DataFrame. Some initial data cleaning is performed:\n",
    "- A new column `key` is added as a unique identifier, which is then set as the index of the DataFrame.\n",
    "- The redundant `id` column is dropped.\n",
    "\n",
    "## 3. Preprocess `qprod1_d`, `qprod2`, `qk4`, `qk5`, and `qf10_*` Variables\n",
    "Certain variables require specific preprocessing:\n",
    "- Missing values in specific columns (`qprod1_d` and `qprod2`) are filled with predefined values (`99` and `-99`, respectively).\n",
    "- The variables `qk4` and `qk5` are recoded, grouping the answers of variables qk4 and qk5, imposing 1 on all incorrect answers.\n",
    "- Variables that start with `qf10_` have invalid values (`-97`, `-99`) replaced with the mode (most frequent value) of each column to get an integer variable.\n",
    "\n",
    "## 4. Define and Encode Variables\n",
    "The script then categorizes the variables into three types:\n",
    "- **Binary variables**: Variables with binary (0/1) responses.\n",
    "- **Integer variables**: Variables with integer responses, including the `qf10_*` variables.\n",
    "- **Continuous variables**: Variables with continuous numeric responses (e.g., `pesofitc`).\n",
    "\n",
    "The remaining columns are treated as **categorical variables**. These categorical variables are encoded using `OneHotEncoder`, which converts them into binary (0/1) features.\n",
    "\n",
    "## 5. Create and Finalize the Final DataFrame\n",
    "The final DataFrame (`db_final`) is created by combining the binary, integer, and encoded categorical variables. Any remaining missing values are filled with `0`.\n",
    "\n",
    "## 6. Check for Missing Values\n",
    "Lastly, the script checks if there are any remaining missing values in the final DataFrame:\n",
    "- If missing values are detected, a warning message is printed.\n",
    "- If there are no missing values, a success message is displayed.\n",
    "\n",
    "This structured approach ensures that the data is clean, consistent, and ready for any further analysis or machine learning tasks."
   ]
  },
  {
   "cell_type": "code",
   "execution_count": 66,
   "metadata": {},
   "outputs": [
    {
     "name": "stdout",
     "output_type": "stream",
     "text": [
      "PASS_20_17\n",
      "No missing values.\n"
     ]
    }
   ],
   "source": [
    "# 1. Load Datasets and Compare Columns\n",
    "df_2017 = pd.read_csv(\"data/Financia_literacy_2017.csv\")\n",
    "df_2020 = pd.read_csv(\"data/Financia_literacy_2020.csv\")\n",
    "\n",
    "geodemo = [\"AREA5\",\"qd10\", \"qd9\"]\n",
    "\n",
    "if (df_2020.columns == df_2017.columns).all():\n",
    "    print(\"PASS_20_17\")\n",
    "else:\n",
    "    print(\"FAIL_20_17\")\n",
    "    print(\"df_20: YES , df_17: NO\", set(df_2020.columns) - set(df_2017.columns))\n",
    "    print(\"df_17: YES , df_20: NO\", set(df_2017.columns) - set(df_2020.columns))\n",
    "\n",
    "# 2. Merge DataFrames and creates a new index\n",
    "db = pd.concat([df_2017, df_2020], axis=0, ignore_index=True)\n",
    "db['key'] = range(len(db))\n",
    "db.set_index('key', inplace=True)\n",
    "db.drop(columns=[\"id\"], inplace=True)\n",
    "\n",
    "# 3. Preprocess qprod1_d, qprod2, qk4, qk5, and qf10_* Variables\n",
    "db.fillna({\"qprod1_d\": 99, \"qprod2\": -99}, inplace=True)\n",
    "\n",
    "db['qk4'] = np.where(db['qk4'].isin([-97, -99, 0]), db['qk4'], 1)\n",
    "db['qk5'] = np.where(db['qk5'].isin([-97, -99, 102]), db['qk5'], 1)\n",
    "\n",
    "qf10_cols = [col for col in db.columns if col.startswith(\"qf10_\")]\n",
    "for col in qf10_cols:\n",
    "    mode_value = db[col].mode()[0]\n",
    "    db[col] = db[col].replace([-97, -99], mode_value)\n",
    "\n",
    "# 4. Define Variables Type and Encode Variables Categorical ones\n",
    "binary_variables = [\n",
    "    \"qd1\", \"SM\", \"qd12\", \"qprod1c_1\", \"qprod1c_2\", \"qprod1c_3\", \"qprod1c_5\", \"qprod1c_6\", \"qprod1c_7\",\n",
    "    \"qprod1c_8\", \"qprod1c_10\", \"qprod1c_11\", \"qprod1c_12\", \"qprod1c_14\", \"qprod1c_99\", \"qf3_1\", \"qf3_3\", \"qf3_4\",\n",
    "    \"qf3_6\", \"qf3_7\", \"qf3_8\", \"qf3_99\", \"qf9_1\", \"qf9_10\", \"qf9_2\", \"qf9_3\", \"qf9_4\", \"qf9_5\", \"qf9_6\", \"qf9_7\",\n",
    "    \"qf9_8\", \"qf9_9\", \"qf9_99\", \"qprod3_1\", \"qprod3_2\", \"qprod3_3\", \"qprod3_4\", \"qprod3_5\", \"qprod3_6\", \"qprod3_7\",\n",
    "    \"qprod3_8\", \"qprod3_9\", \"qprod3_10\", \"qprod3_11\", \"qprod3_12\", \"qprod3_13\", \"qprod3_14\", \"qprod3_15\", \"qprod3_16\",\n",
    "    \"qprod3_17\", \"qprod3_18\", \"qprod3_99\", \"qf12_1_a\", \"qf12_1_b\", \"qf12_1_c\", \"qf12_2_d\", \"qf12_3_e\", \"qf12_3_f\",\n",
    "    \"qf12_3_g\", \"qf12_4_k\", \"qf12_4_l\", \"qf12_5_m\", \"qf12_5_o\", \"qf12_6_p\", \"qf12_6_q\", \"qf12_7_r\", \"qf12_97\", \"qf12_99\"\n",
    "]\n",
    "integer_variables = [\"qd5b\", \"qd7\"] + qf10_cols\n",
    "continuous_variables = [\"pesofitc\"]\n",
    "\n",
    "categorical_variables = db.columns.difference(binary_variables + integer_variables + continuous_variables)\n",
    "\n",
    "encoder = OneHotEncoder(drop='first')\n",
    "encoded_cols = encoder.fit_transform(db[categorical_variables])\n",
    "encoded_df = pd.DataFrame(encoded_cols.toarray(), columns=encoder.get_feature_names_out(categorical_variables))\n",
    "\n",
    "# 5. Create and Finalize the Final DataFrame\n",
    "db_final = pd.concat([db[binary_variables + integer_variables + geodemo], encoded_df], axis=1).fillna(0)\n",
    "\n",
    "# 6. Check for Missing Values\n",
    "if db_final.isna().any().any():\n",
    "    print(\"Missing values exist.\")\n",
    "else:\n",
    "    print(\"No missing values.\")"
   ]
  },
  {
   "cell_type": "code",
   "execution_count": 73,
   "metadata": {},
   "outputs": [],
   "source": [
    "# Definizione delle generazioni basate sull'anno di nascita\n",
    "def categorize_generation(age):\n",
    "    if age >= 80:  # Nati prima del 1945\n",
    "        return \"Silent_Generation\"\n",
    "    elif 64 <= age <= 79:  # Nati tra 1945 e 1960\n",
    "        return \"Boomers\"\n",
    "    elif 50 <= age <= 63:  # Nati tra 1961 e 1974\n",
    "        return \"Gen_X\"\n",
    "    elif 34 <= age <= 49:  # Nati tra 1975 e 1990\n",
    "        return \"Millennials\"\n",
    "    elif 18 <= age <= 33:  # Nati tra 1991 e 2006\n",
    "        return \"Gen_Z\"\n",
    "    else:\n",
    "        return \"Unknown\"\n",
    "\n",
    "# Creazione della nuova colonna con la generazione\n",
    "db_final[\"generation\"] = db_final[\"qd7\"].apply(categorize_generation)"
   ]
  },
  {
   "cell_type": "markdown",
   "metadata": {},
   "source": [
    "<span style=\"font-size: 1em;\">\n",
    "\n",
    "### Variable Selection for Financial Literacy Analysis\n",
    "\n",
    "In this analysis, I have specifically defined and selected variables based on the questions from the questionnaire that are directly used to calculate the financial literacy scores.\n",
    "\\\\\n",
    "These variables are categorized into three key components: **knowledge**, **behavior**, and **attitude**. "
   ]
  },
  {
   "cell_type": "code",
   "execution_count": 6,
   "metadata": {},
   "outputs": [],
   "source": [
    "knowledge_answer = [\"qk3_2\",\"qk3_3\",\"qk3_-97\",\"qk3_1\", #qk3\n",
    "                       \"qk4_1\",\"qk4_-97\",\"qk4_0\", #qk4\n",
    "                       \"qk5_1\",\"qk5_-97\",\"qk5_102\", #qk5\n",
    "                       \"qk6_2\",\"qk6_3\",\"qk6_4\",\"qk6_-97\",\"qk6_1\", #qk6\n",
    "                       \"qk7_1_0\",\"qk7_1_-97\",\"qk7_1_1\", #qk7_1\n",
    "                       \"qk7_2_0\",\"qk7_2_-97\",\"qk7_2_1\", #qk7_2\n",
    "                       \"qk7_3_0\",\"qk7_3_-97\",\"qk7_3_1\",] #qk7_3\n",
    "\n",
    "behevioral_answer =  [\"qf1_2\",\"qf1_3\",\"qf1_1\", #qf1\n",
    "                        \"qf2_0\",\"qf2_1\", #qf2\n",
    "                        \"qf3_1\",\"qf3_3\",\"qf3_4\",\"qf3_6\",\"qf3_7\",\"qf3_8\",\"qf3_99\", #qf3\n",
    "                        \"qf10_1\", #qf10_1\n",
    "                        \"qf10_4\", #qf10_4\n",
    "                        \"qf10_6\", #qf10_6\n",
    "                        \"qf10_7\", #qf10_7\n",
    "                        \"qprod2_2.0\",\"qprod2_3.0\",\"qprod2_4.0\",\"qprod2_1.0\", #qprod2\n",
    "                        \"qprod3_1\",\"qprod3_2\",\"qprod3_3\",\"qprod3_4\",\"qprod3_5\",\"qprod3_6\",\"qprod3_7\",\"qprod3_8\",\"qprod3_9\",\"qprod3_10\",\"qprod3_11\",\"qprod3_12\",\"qprod3_13\",\"qprod3_14\",\"qprod3_15\",\"qprod3_16\",\"qprod3_17\",\"qprod3_18\",\"qprod3_99\", #qprod3\n",
    "                        \"qf12_1_a\",\"qf12_1_b\",\"qf12_1_c\",\"qf12_2_d\",\"qf12_3_e\",\"qf12_3_f\",\"qf12_3_g\",\"qf12_4_k\",\"qf12_4_l\",\"qf12_5_m\",\"qf12_5_o\",\"qf12_6_p\",\"qf12_6_q\",\"qf12_7_r\",\"qf12_97\",\"qf12_99\" #qf12\n",
    "                        ]\n",
    "\n",
    "attitude_answer = [\"qf10_2\",\"qf10_3\",\"qf10_8\"] #qf10"
   ]
  },
  {
   "cell_type": "markdown",
   "metadata": {},
   "source": [
    "\n",
    "## 🔹 Punteggi di conoscenza (Knowledge Score)\n",
    "Vengono creati punteggi binari per le variabili `qk3` - `qk7`, assegnando il valore **1** se la risposta corrisponde a `1` e **0** altrimenti.\n",
    "\n",
    "## 🔹 Punteggi comportamentali (Behavioral Score)\n",
    "- **`qf1_qf2_score`**: Assegna **1** se almeno una delle due variabili `qf1_1` o `qf1_2` è `1` e contemporaneamente `qf2_1` è `1`.  \n",
    "- **`qf3_score`**: Assegna **1** se almeno una delle variabili `qf3_1`, `qf3_4`, `qf3_6`, `qf3_7` o `qf3_8` è `1`.  \n",
    "- **`qf10_1_score`**, **`qf10_4_score`**, **`qf10_6_score`**, **`qf10_7_score`**: Assegna **1** se il valore è `1` o `2`.\n",
    "\n",
    "## 🔹 Variabili di produzione\n",
    "- **`temp_qprod2`**: Assegna **1** se almeno una delle variabili `qprod2_1.0` o `qprod2_4.0` è `1`.  \n",
    "- **`temp_qprod3`**: Calcola un valore tra 0 e 2 in base a specifiche condizioni:  \n",
    "  - Se almeno una delle variabili `qprod3_5` - `qprod3_8` è `1`, assegna **2**.  \n",
    "  - Se almeno una delle variabili `qprod3_2`, `qprod3_3`, `qprod3_4`, ecc. è `1`, assegna **1**.  \n",
    "- **`qprod_2pt_score`**: Assegna **1** se `temp_qprod3` è esattamente `2`.  \n",
    "- **`qprod_1pt_score`**: Assegna **1** se `temp_qprod2` o `temp_qprod3` è almeno `1`.  \n",
    "\n",
    "## 🔹 Punteggio di credito (Credit Score)\n",
    "- **`qf12_score`**: Se un individuo ha usato almeno un'opzione di credito (valore diverso da 0 in `credit_columns`), assegna **0**. Se non ha usato il credito, assegna **1**.\n",
    "\n",
    "## 🔹 Punteggi di atteggiamento (Attitude Score)\n",
    "- **`qf10_2_score`**, **`qf10_3_score`**, **`qf10_8_score`**: Assegna **1** se il valore è **4 o 5**, altrimenti **0**.\n",
    "\n",
    "Questo codice permette di trasformare le risposte di un questionario in variabili binarie che possono essere usate per analisi statistiche o modelli di machine learning. 🚀\n"
   ]
  },
  {
   "cell_type": "code",
   "execution_count": 76,
   "metadata": {},
   "outputs": [],
   "source": [
    "import pandas as pd\n",
    "\n",
    "# Creazione dei punteggi di conoscenza (Knowledge Score)\n",
    "db_final[\"qk3_score\"] = (db_final[\"qk3_3\"] == 1).astype(int)\n",
    "db_final[\"qk4_score\"] = (db_final[\"qk4_0\"] == 1).astype(int)\n",
    "db_final[\"qk5_score\"] = (db_final[\"qk5_102\"] == 1).astype(int)\n",
    "db_final[\"qk6_score\"] = (db_final[\"qk6_1\"] == 1).astype(int)\n",
    "db_final[\"qk7_1_score\"] = (db_final[\"qk7_1_1\"] == 1).astype(int)\n",
    "db_final[\"qk7_2_score\"] = (db_final[\"qk7_2_1\"] == 1).astype(int)\n",
    "db_final[\"qk7_3_score\"] = (db_final[\"qk7_3_1\"] == 1).astype(int)\n",
    "\n",
    "# Creazione dei punteggi comportamentali (Behavioral Score)\n",
    "db_final[\"qf1_qf2_score\"] = (((db_final[\"qf1_1\"] == 1) | (db_final[\"qf1_2\"] == 1)) & (db_final[\"qf2_1\"] == 1)).astype(int)\n",
    "db_final[\"qf3_score\"] = db_final[[\"qf3_1\", \"qf3_4\", \"qf3_6\", \"qf3_7\", \"qf3_8\"]].sum(axis=1).gt(0).astype(int)\n",
    "db_final[\"qf10_1_score\"] = db_final[\"qf10_1\"].isin([1, 2]).astype(int)\n",
    "db_final[\"qf10_4_score\"] = db_final[\"qf10_4\"].isin([1, 2]).astype(int)\n",
    "db_final[\"qf10_6_score\"] = db_final[\"qf10_6\"].isin([1, 2]).astype(int)\n",
    "db_final[\"qf10_7_score\"] = db_final[\"qf10_7\"].isin([1, 2]).astype(int)\n",
    "\n",
    "# Creazione delle variabili temporanee per la produzione\n",
    "db_final[\"temp_qprod2\"] = db_final[[\"qprod2_1.0\", \"qprod2_4.0\"]].sum(axis=1).gt(0).astype(int)\n",
    "\n",
    "db_final[\"temp_qprod3\"] = (\n",
    "    (db_final[[\"qprod3_5\", \"qprod3_6\", \"qprod3_7\", \"qprod3_8\"]].sum(axis=1) > 0).astype(int) * 2 +\n",
    "    (db_final[[\"qprod3_2\", \"qprod3_3\", \"qprod3_4\", \"qprod3_9\", \"qprod3_10\", \"qprod3_11\", \"qprod3_12\", \"qprod3_13\", \"qprod3_18\"]].sum(axis=1) > 0).astype(int)\n",
    ")\n",
    "\n",
    "db_final[\"qprod_2pt_score\"] = (db_final[\"temp_qprod3\"] == 2).astype(int)\n",
    "db_final[\"qprod_1pt_score\"] = ((db_final[\"temp_qprod2\"] == 1) | (db_final[\"temp_qprod3\"] == 1)).astype(int)\n",
    "\n",
    "credit_columns = [\"qf12_3_e\", \"qf12_3_f\", \"qf12_3_g\", \"qf12_4_k\", \"qf12_4_l\", \"qf12_5_m\",\n",
    "                  \"qf12_5_o\", \"qf12_6_p\", \"qf12_6_q\"]\n",
    "\n",
    "db_final[\"qf12_score\"] = (db_final[credit_columns].sum(axis=1) == 0).astype(int)\n",
    "\n",
    "# Creazione del punteggio di atteggiamento (Attitude Score)\n",
    "db_final[\"qf10_2_score\"] = db_final[\"qf10_2\"].isin([4, 5]).astype(int)\n",
    "db_final[\"qf10_3_score\"] = db_final[\"qf10_3\"].isin([4, 5]).astype(int)\n",
    "db_final[\"qf10_8_score\"] = db_final[\"qf10_8\"].isin([4, 5]).astype(int)\n"
   ]
  },
  {
   "cell_type": "code",
   "execution_count": 81,
   "metadata": {},
   "outputs": [],
   "source": [
    "knowledge_score_variables = [\n",
    "    \"qk3_score\", \"qk4_score\", \"qk5_score\", \"qk6_score\", \n",
    "    \"qk7_1_score\", \"qk7_2_score\", \"qk7_3_score\"\n",
    "]\n",
    "\n",
    "# Behavioral Score\n",
    "behavioral_score_variables = [\n",
    "    \"qf1_qf2_score\", \"qf3_score\", \"qf10_1_score\", \n",
    "    \"qf10_4_score\", \"qf10_6_score\", \"qf10_7_score\",\n",
    "    \"qprod_2pt_score\", \"qprod_1pt_score\", \"qf12_score\"\n",
    "]\n",
    "\n",
    "# Attitude Score\n",
    "attitude_score_variables = [\n",
    "    \"qf10_2_score\", \"qf10_3_score\", \"qf10_8_score\"\n",
    "]\n",
    "\n",
    "variabili_fca = knowledge_score_variables + behavioral_score_variables + attitude_score_variables\n",
    "\n",
    "geodemo = [\"qd1\", \"AREA5\", \"qd5b\", \"generation\", \"qd10\", \"qd9\", \"qd12\"]"
   ]
  },
  {
   "cell_type": "code",
   "execution_count": 101,
   "metadata": {},
   "outputs": [],
   "source": [
    "db_analysis = db_final[geodemo + knowledge_score_variables + behavioral_score_variables + attitude_score_variables]"
   ]
  },
  {
   "cell_type": "code",
   "execution_count": 102,
   "metadata": {},
   "outputs": [
    {
     "name": "stderr",
     "output_type": "stream",
     "text": [
      "C:\\Users\\lore9\\AppData\\Local\\Temp\\ipykernel_17412\\1713651054.py:1: SettingWithCopyWarning: \n",
      "A value is trying to be set on a copy of a slice from a DataFrame.\n",
      "Try using .loc[row_indexer,col_indexer] = value instead\n",
      "\n",
      "See the caveats in the documentation: https://pandas.pydata.org/pandas-docs/stable/user_guide/indexing.html#returning-a-view-versus-a-copy\n",
      "  db_analysis[\"total_score\"] = db_final[variabili_fca].sum(axis=1)\n"
     ]
    }
   ],
   "source": [
    "db_analysis[\"total_score\"] = db_final[variabili_fca].sum(axis=1)"
   ]
  },
  {
   "cell_type": "code",
   "execution_count": 103,
   "metadata": {},
   "outputs": [
    {
     "name": "stdout",
     "output_type": "stream",
     "text": [
      "Principali caratteristiche della distribuzione:\n",
      "count    4752.000000\n",
      "mean        9.397727\n",
      "std         2.899796\n",
      "min         1.000000\n",
      "25%         7.000000\n",
      "50%         9.000000\n",
      "75%        11.000000\n",
      "max        18.000000\n",
      "Name: total_score, dtype: float64\n"
     ]
    },
    {
     "data": {
      "image/png": "[encoded data removed]",
      "text/plain": [
       "<Figure size 1000x600 with 1 Axes>"
      ]
     },
     "metadata": {},
     "output_type": "display_data"
    }
   ],
   "source": [
    "import matplotlib.pyplot as plt\n",
    "\n",
    "# Calcolare le principali caratteristiche della distribuzione\n",
    "distribution_stats = db_analysis[\"total_score\"].describe()\n",
    "\n",
    "# Stampare le statistiche principali\n",
    "print(\"Principali caratteristiche della distribuzione:\")\n",
    "print(distribution_stats)\n",
    "\n",
    "# Creare il grafico di distribuzione\n",
    "plt.figure(figsize=(10, 6))\n",
    "plt.hist(db_analysis[\"total_score\"], bins=18, edgecolor='black', alpha=0.7)\n",
    "plt.title(\"Distribuzione del Total Score\")\n",
    "plt.xlabel(\"Total Score\")\n",
    "plt.ylabel(\"Frequenza\")\n",
    "plt.grid(True)\n",
    "plt.show()\n"
   ]
  },
  {
   "cell_type": "code",
   "execution_count": 111,
   "metadata": {},
   "outputs": [
    {
     "name": "stderr",
     "output_type": "stream",
     "text": [
      "C:\\Users\\lore9\\AppData\\Local\\Temp\\ipykernel_17412\\3881383780.py:6: SettingWithCopyWarning: \n",
      "A value is trying to be set on a copy of a slice from a DataFrame.\n",
      "Try using .loc[row_indexer,col_indexer] = value instead\n",
      "\n",
      "See the caveats in the documentation: https://pandas.pydata.org/pandas-docs/stable/user_guide/indexing.html#returning-a-view-versus-a-copy\n",
      "  db_analysis[\"segmentation\"] = db_analysis[var1].astype(str) + \"_\" + db_analysis[var2].astype(str)\n"
     ]
    }
   ],
   "source": [
    "# Seleziona le due variabili da usare per la segmentazione\n",
    "var1 = \"qd9\"  # Sostituisci con il nome della prima variabile\n",
    "var2 = \"generation\" \n",
    "\n",
    "# Creazione di una nuova variabile che è la concatenazione dei valori di var1 e var2\n",
    "db_analysis[\"segmentation\"] = db_analysis[var1].astype(str) + \"_\" + db_analysis[var2].astype(str) "
   ]
  },
  {
   "cell_type": "code",
   "execution_count": 112,
   "metadata": {},
   "outputs": [],
   "source": [
    "segmentation_score_mean = db_analysis.groupby(\"segmentation\")[\"total_score\"].mean()"
   ]
  },
  {
   "cell_type": "code",
   "execution_count": 116,
   "metadata": {},
   "outputs": [
    {
     "data": {
      "text/plain": [
       "segmentation\n",
       "3_Millennials          674\n",
       "3_Gen_X                524\n",
       "4_Gen_X                430\n",
       "1_Millennials          398\n",
       "4_Millennials          374\n",
       "4_Boomers              364\n",
       "3_Gen_Z                344\n",
       "1_Gen_Z                328\n",
       "3_Boomers              278\n",
       "5_Boomers              222\n",
       "4_Gen_Z                206\n",
       "1_Gen_X                196\n",
       "1_Boomers              138\n",
       "5_Silent_Generation     76\n",
       "4_Silent_Generation     60\n",
       "5_Gen_X                 34\n",
       "6_Boomers               32\n",
       "3_Silent_Generation     30\n",
       "6_Silent_Generation     18\n",
       "1_Silent_Generation     14\n",
       "5_Millennials            8\n",
       "5_Gen_Z                  2\n",
       "7_Gen_Z                  2\n",
       "Name: count, dtype: int64"
      ]
     },
     "execution_count": 116,
     "metadata": {},
     "output_type": "execute_result"
    }
   ],
   "source": [
    "db_analysis[\"segmentation\"].value_counts()"
   ]
  },
  {
   "cell_type": "code",
   "execution_count": 115,
   "metadata": {},
   "outputs": [
    {
     "data": {
      "text/plain": [
       "segmentation\n",
       "1_Boomers              10.637681\n",
       "1_Gen_X                10.683673\n",
       "1_Gen_Z                 9.396341\n",
       "1_Millennials          10.170854\n",
       "1_Silent_Generation    12.142857\n",
       "3_Boomers              10.338129\n",
       "3_Gen_X                 9.973282\n",
       "3_Gen_Z                 8.767442\n",
       "3_Millennials           9.548961\n",
       "3_Silent_Generation    10.000000\n",
       "4_Boomers               9.373626\n",
       "4_Gen_X                 9.162791\n",
       "4_Gen_Z                 7.932039\n",
       "4_Millennials           8.459893\n",
       "4_Silent_Generation     8.566667\n",
       "5_Boomers               8.711712\n",
       "5_Gen_X                 6.705882\n",
       "5_Gen_Z                11.000000\n",
       "5_Millennials           7.750000\n",
       "5_Silent_Generation     8.842105\n",
       "6_Boomers               7.500000\n",
       "6_Silent_Generation     6.000000\n",
       "7_Gen_Z                 7.000000\n",
       "Name: total_score, dtype: float64"
      ]
     },
     "execution_count": 115,
     "metadata": {},
     "output_type": "execute_result"
    }
   ],
   "source": [
    "segmentation_score_mean"
   ]
  }
 ],
 "metadata": {
  "kernelspec": {
   "display_name": ".venv",
   "language": "python",
   "name": "python3"
  },
  "language_info": {
   "codemirror_mode": {
    "name": "ipython",
    "version": 3
   },
   "file_extension": ".py",
   "mimetype": "text/x-python",
   "name": "python",
   "nbconvert_exporter": "python",
   "pygments_lexer": "ipython3",
   "version": "3.12.2"
  }
 },
 "nbformat": 4,
 "nbformat_minor": 2
}
