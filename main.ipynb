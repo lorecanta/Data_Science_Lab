{
 "cells": [
  {
   "cell_type": "code",
   "execution_count": 1,
   "metadata": {},
   "outputs": [],
   "source": [
    "import pandas as pd\n",
    "from helpers import utils_analysis\n",
    "from helpers import utils_data_preparation\n",
    "from helpers import utils_plot\n",
    "import os \n",
    "from config import *\n",
    "\n",
    "output_dir = 'output'\n",
    "os.makedirs(output_dir, exist_ok=True)"
   ]
  },
  {
   "cell_type": "code",
   "execution_count": null,
   "metadata": {},
   "outputs": [],
   "source": [
    "data = utils_data_preparation.process_financial_literacy_data(\"data/Financia_literacy_2018.csv\")"
   ]
  },
  {
   "cell_type": "code",
   "execution_count": null,
   "metadata": {},
   "outputs": [],
   "source": [
    "prepared_data = utils_data_preparation.analysis_dataframe_preparation(data, \"education\", \"generation\",  min_weight, n_folds)"
   ]
  },
  {
   "cell_type": "code",
   "execution_count": null,
   "metadata": {},
   "outputs": [],
   "source": [
    "variables={\n",
    "    \"behavioral\":behavioral_score_variables,\n",
    "    \"attitude\":attitude_score_variables\n",
    "}\n",
    "for i in ['df_analysis', 'df_analysis_invertito']:\n",
    "    for k in variables.keys():\n",
    "        final_results, summary = utils_analysis.analyze_association_rules_cv(\n",
    "            df=prepared_data[i],\n",
    "            segmentation_column=\"segmentation\",\n",
    "            segmentation_values=prepared_data['segmentation_values'],\n",
    "            columns_A=knowledge_score_variables,\n",
    "            columns_B=variables[k],\n",
    "            export_name=\"association_rules_cv_results\",\n",
    "            min_support=0,\n",
    "            min_confidence=0,\n",
    "            min_lift=0,\n",
    "            n_folds=10\n",
    "        )\n",
    "        utils_plot.plot_metrics_distribution(final_results, save_path=\"output\\\\output_plots\", plot_name=f\"metrics_distribution_{i}_{k}\")"
   ]
  },
  {
   "cell_type": "code",
   "execution_count": null,
   "metadata": {},
   "outputs": [],
   "source": [
    "variables={\n",
    "    \"behavioral\":behavioral_score_variables,\n",
    "    \"attitude\":attitude_score_variables\n",
    "}\n",
    "for i in ['df_analysis', 'df_analysis_invertito']:\n",
    "    for k in variables.keys():\n",
    "        final_results, summary = utils_analysis.analyze_association_rules_cv(\n",
    "            df=prepared_data[i],\n",
    "            segmentation_column=\"segmentation\",\n",
    "            segmentation_values=prepared_data['segmentation_values'],\n",
    "            columns_A=knowledge_score_variables,\n",
    "            columns_B=variables[k],\n",
    "            export_name=\"association_rules_cv_results\",\n",
    "            n_folds=10\n",
    "        )\n",
    "        final_results.to_csv(f\"output\\\\association_rules_{i}_{k}.csv\")\n",
    "        #utils_plot.plot_metrics_distribution(final_results, save_path=\"output\\\\output_plots_filtered\", plot_name=f\"metrics_distribution_{i}_{k}\")"
   ]
  }
 ],
 "metadata": {
  "kernelspec": {
   "display_name": ".venv",
   "language": "python",
   "name": "python3"
  },
  "language_info": {
   "codemirror_mode": {
    "name": "ipython",
    "version": 3
   },
   "file_extension": ".py",
   "mimetype": "text/x-python",
   "name": "python",
   "nbconvert_exporter": "python",
   "pygments_lexer": "ipython3",
   "version": "3.12.0"
  }
 },
 "nbformat": 4,
 "nbformat_minor": 2
}
