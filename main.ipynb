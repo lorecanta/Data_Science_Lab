{
 "cells": [
  {
   "cell_type": "code",
   "execution_count": 1,
   "metadata": {},
   "outputs": [],
   "source": [
    "import pandas as pd\n",
    "from shared import utils_data_preparation\n",
    "from shared import utils_analysis"
   ]
  },
  {
   "cell_type": "markdown",
   "metadata": {},
   "source": [
    "Preparazione dataset ed input"
   ]
  },
  {
   "cell_type": "code",
   "execution_count": 2,
   "metadata": {},
   "outputs": [
    {
     "name": "stdout",
     "output_type": "stream",
     "text": [
      "PASS\n",
      "No missing values.\n",
      "No missing values.\n"
     ]
    }
   ],
   "source": [
    "# Caricamento dati\n",
    "df_2017 = pd.read_csv(\"data/Financia_literacy_2017.csv\")\n",
    "df_2020 = pd.read_csv(\"data/Financia_literacy_2020.csv\")\n",
    "\n",
    "# Controllo struttura\n",
    "db_check = utils_data_preparation.check_dataframe_structure(df_2017, df_2020)\n",
    "\n",
    "# Se la struttura è compatibile, trasformiamo entrambi i DataFrame\n",
    "if db_check:\n",
    "    df_2017_transformed = utils_data_preparation.transform_dataframe(df_2017)\n",
    "    df_2020_transformed = utils_data_preparation.transform_dataframe(df_2020)\n",
    "\n",
    "# Creazione della nuova colonna con la generazione\n",
    "df_2017_transformed[\"education\"] = df_2017_transformed[\"qd9\"].apply(utils_data_preparation.categorize_education)\n",
    "df_2020_transformed[\"education\"] = df_2020_transformed[\"qd9\"].apply(utils_data_preparation.categorize_education)\n",
    "\n",
    "# Creazione della nuova colonna con la generazione\n",
    "df_2017_transformed[\"generation\"] = df_2017_transformed[\"qd7\"].apply(utils_data_preparation.categorize_generation)\n",
    "df_2020_transformed[\"generation\"] = df_2020_transformed[\"qd7\"].apply(utils_data_preparation.categorize_generation)\n",
    "\n",
    "# Seleziona le due variabili da usare per la segmentazione\n",
    "var1 = \"education\"  # Sostituisci con il nome della prima variabile\n",
    "var2 = \"generation\" \n",
    "\n",
    "# Creazione di una nuova variabile che è la concatenazione dei valori di var1 e var2\n",
    "df_2017_transformed[\"segmentation\"] = df_2017_transformed[var1].astype(str) + \"_\" + df_2017_transformed[var2].astype(str) \n",
    "df_2020_transformed[\"segmentation\"] = df_2020_transformed[var1].astype(str) + \"_\" + df_2020_transformed[var2].astype(str) \n",
    "\n",
    "df_2017_transformed = utils_data_preparation.calculate_scores(df_2017_transformed)\n",
    "df_2020_transformed = utils_data_preparation.calculate_scores(df_2020_transformed)\n",
    "\n",
    "segmentation_counts = df_2017_transformed[\"segmentation\"].value_counts()\n",
    "segmentation_values = segmentation_counts[segmentation_counts >= 200].index.tolist()"
   ]
  },
  {
   "cell_type": "markdown",
   "metadata": {},
   "source": [
    "Analisi"
   ]
  },
  {
   "cell_type": "code",
   "execution_count": 3,
   "metadata": {},
   "outputs": [],
   "source": [
    "final_results, summary_results = utils_analysis.analyze_association_rules(\n",
    "    df_train=df_2017_transformed,\n",
    "    df_test=df_2020_transformed,\n",
    "    segmentation_column=\"segmentation\",\n",
    "    segmentation_values=segmentation_values,\n",
    "    columns_A=utils_data_preparation.knowledge_score_variables,\n",
    "    columns_B=utils_data_preparation.behavioral_score_variables,\n",
    "    export_name=\"knowledge_behavioral\"\n",
    ")"
   ]
  },
  {
   "cell_type": "code",
   "execution_count": 4,
   "metadata": {},
   "outputs": [],
   "source": [
    "final_results, summary_results = utils_analysis.analyze_association_rules(\n",
    "    df_train=df_2017_transformed,\n",
    "    df_test=df_2020_transformed,\n",
    "    segmentation_column=\"segmentation\",\n",
    "    segmentation_values=segmentation_values,\n",
    "    columns_A=utils_data_preparation.knowledge_score_variables,\n",
    "    columns_B=utils_data_preparation.attitude_score_variables,\n",
    "    export_name=\"knowledge_attitude\"\n",
    ")"
   ]
  },
  {
   "cell_type": "code",
   "execution_count": 5,
   "metadata": {},
   "outputs": [],
   "source": [
    "final_results, summary_results = utils_analysis.analyze_association_rules(\n",
    "    df_train=df_2017_transformed,\n",
    "    df_test=df_2020_transformed,\n",
    "    segmentation_column=\"segmentation\",\n",
    "    segmentation_values=segmentation_values,\n",
    "    columns_A=utils_data_preparation.attitude_score_variables,\n",
    "    columns_B=utils_data_preparation.behavioral_score_variables,\n",
    "    export_name=\"attitude_behavioral\"\n",
    ")"
   ]
  }
 ],
 "metadata": {
  "kernelspec": {
   "display_name": ".venv",
   "language": "python",
   "name": "python3"
  },
  "language_info": {
   "codemirror_mode": {
    "name": "ipython",
    "version": 3
   },
   "file_extension": ".py",
   "mimetype": "text/x-python",
   "name": "python",
   "nbconvert_exporter": "python",
   "pygments_lexer": "ipython3",
   "version": "3.12.2"
  }
 },
 "nbformat": 4,
 "nbformat_minor": 2
}
